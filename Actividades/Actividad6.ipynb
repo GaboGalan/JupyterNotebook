{
 "cells": [
  {
   "cell_type": "markdown",
   "metadata": {},
   "source": [
    "#### Introducción a la Inteligencia Artificial: El proceso de razonamiento segín la lógica\n",
    "\n",
    "El problema plantea que hay un circulo de n personas, donde cada persona deberá matar a la que tiene a su lado, en sentido horario. Supongamos que el circulo tiene 41 personas, como originalmente se describe el problema. En este caso comienza la persona número 1, por lo cual esta eliminará a la 2, después la 3 a la 4, la 5 a la 6 y así sucesivamente, hasta que quede una sola persona. El objetivo es encontrar una manera consistente de saber quien será la ultima persona.\n",
    "\n",
    "Como se dice en la actividad, se va a resolver el ejercicio de una manera mas simple, con unicamente 20 soldados.\n",
    "1-1,2-1,3-3,4-1,5-3,6-5,7-7,8-1,9-3,10-5\n",
    "11-7,12-9,13-11,14-13,15-15,16-1,17-3,18-5,19-7,20-9\n",
    "\n",
    "Para cada circulo cuyo numero de personas n sea una potencia de 2, la ultima persona en sobrevivir siempre será la primera (y que como consecuencia no altera el orden en que se van a eliminar, es decir, siempre empezará en cada ronda), esto debido a que cumplen con una condición, cada vez que se termina una ronda de eliminaciones, el circulo se reduce a la mitad, y a su vez, este circulo sigue siendo una potencia de dos, por lo que sigue siendo un numero n par, que a su vez cuando se reduzca a la mitad, también dejará otro circulo con un numero n que es potencia de dos y que sigue cumpliendo con esas carateristicas.\n",
    "\n",
    "También se puede deducir lo siguiente, cada posible numero n para el circulo puede ser representado de la siguiente forma: 2^a + m (recordando que cualquier circulo con m = 0, es decir solamente 2^a tendrá como ultimo sobreviviente a la persona que inicia la ronda)\n",
    "\n",
    "De esta manera podemos hacer el siguiente planteamiento:\n",
    "\n",
    "Si para un circulo 2^a + m, permitimos que sucedan m turnos, terminaremos con un circulo 2^a, es decir un circulo con un numero n potencia de dos.\n",
    "\n",
    "Por ejemplo, para un circulo de 10 personas, el cual puede ser expresado como 2^3 + 2. Si se ejecutan dos turnos (debido a m = 2), es decir, el 1 mata el 2 y el 3 al 4, en ese momento el circulo se convierte en un circulo de n potencia de dos, por lo que la persona que comience esa ronda será la superviviente (la ronda inicia cuando el circulo apenas queda con el nuevo numero n).\n",
    "\n",
    "Para el caso de el circulo de originalmente 10 personas, una vez que se convierte en uno de 8, el turno es de la persona numero 5 según la tabla, y este numero lo podemos representar como 2m +1 (debido a que por cada turno donde se elimina a una persona, el turno le toca a la persona 2 numeros adelante, por eso la multiplicación por 2, y +1 por que la nueva ronda comienza con la persona imediatamente después de la ultima eliminada).\n",
    "\n",
    "Aplicando esta formula, donde para un circulo 2^a +m su ultimo sobreviviente será la persona 2m+1, vemos que nos da los resultados de la tabla. Por ejemplo:\n",
    "\n",
    "11: 2^3+3 --> 2*3 + 1 =\n",
    "\n",
    "17: 2^4+1 --> 2*1 + 1 = 3\n",
    "\n",
    "20: 2^4+4 --> 2*4 + 1 = 9"
   ]
  },
  {
   "cell_type": "markdown",
   "metadata": {},
   "source": [
    "#### Código principal\n",
    "El código primeramente determina el número al cual deberá elevar la potencia, para eso tenemos el siguiente método, el cual recibirá el numero de personas que hay en el circulo, y comenzará con la potencia 0, ya que el número mínimo de personas a sobrevivir es 1, y todo número elevado a la potencia 0 es 1, a partir de ahí, entraremos en un ciclo, que incrementará la potencia siempre y cuando el resultado de esa potencia sea menor al número de personas en el círculo.\n",
    "\n",
    "Una vez determinada la potencia, se calcula el valor faltante para llegar a la cantidad de personas, para esto se saca el valor total de la potencia, y ese valor se le resta a el total de personas.\n",
    "\n",
    "El último paso consiste en aplicar la formula 2x + 1, que sería el valor faltante para completar el total de personas, multiplicado por 2, más 1.\n",
    "\n",
    "```python\n",
    "def sacarPotencia(numero):\n",
    "    potencia = 0\n",
    "    while 2 ** (potencia + 1) <= numero:\n",
    "        potencia += 1\n",
    "\n",
    "    potencia_de_dos = 2 ** potencia\n",
    "    resto = numero - potencia_de_dos\n",
    "    m = 2*resto +1\n",
    "\n",
    "    return potencia_de_dos, resto,m\n",
    "\n",
    "# Ejemplo con el número 17\n",
    "numero = 17\n",
    "potencia, resto,m = sacarPotencia (numero)\n",
    "\n",
    "print(f\"La última persona sobreviviente en un círculo de {numero} personas es la numero {m}\")\n",
    "```"
   ]
  }
 ],
 "metadata": {
  "language_info": {
   "name": "python"
  }
 },
 "nbformat": 4,
 "nbformat_minor": 2
}
