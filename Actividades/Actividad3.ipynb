{
 "cells": [
  {
   "cell_type": "markdown",
   "metadata": {},
   "source": [
    "#### Introducción a la Inteligencia Artificial: Introspección\n",
    "#### Probrema de los 8 arfiles\n",
    "\n",
    "Coloca ocho alfiles (cuatro negros y cuatro blancos) en un tablero de ajedrez reducido, tal como se ve en la figura. El problema consiste en hacer que los alfiles negros intercambien sus posiciones con los blancos, ningún alfil debe atacar en ningún momento otro del color opuesto. Se deben alternar los movimientos, primero uno blanco, luego uno negro, luego uno blanco y así sucesivamente. ¿Cuál es el mínimo número de movimientos en que se puede conseguir?.\n",
    "\n",
    "#### Ensayo de solución al problema\n",
    "\n",
    "Para poder resolver el problema como primer paso se debe de realizar un análisis. El problema consiste en intercambiar las posiciones de los alfiles en un tablero de 4x5. Los alfiles negros deben estar en las casillas inferiores y los alfiles blancos en las casillas superiores. Los alfiles no deben atacarse entre sí en ningún momento.\n",
    "El movimiento del alfil es diagonal, por lo que solo puede moverse en casillas del mismo color que la casilla en la que se encuentra inicialmente.\n",
    "El objetivo del problema es intercambiar las posiciones de los alfiles en el menor número de movimientos posible.\n",
    "El problema de intercambiar las posiciones de los alfiles es un problema NP-completo, lo que significa que no existe un algoritmo que pueda resolverlo de manera eficiente en todos los casos. Sin embargo, existen algoritmos aproximados que pueden resolver el problema en un tiempo razonable para tableros de tamaño pequeño.\n",
    "\n",
    "![imagen1](imagenes\\imagen1.png)\n",
    "\n",
    "Medidas de rendimiento:\n",
    "\n",
    "Se ejecuta un unico movimiento por color: +1\n",
    "Ningún alfil ataca a otro: +1\n",
    "Los alfiles se atacan entre ellos: -1\n",
    "Se ejecutan movimientos consecutivos por color: -1\n",
    "Los alfiles intercambiaron posiciones: +1\n",
    "\n",
    "Ahora bien, como siguiente paso en el proceso se debe de realizar un razonamiento, tenemos entonces que para intercambiar la posición de ocho alfiles en un tablero de ajedrez, un alfil no puede llegar al otro extremo del tablero en un solo movimiento. Esto se debe a dos razones:\n",
    "El tablero no es cuadrado, por lo que un alfil no puede alcanzar el otro extremo en un solo movimiento.\n",
    "Dos alfiles no pueden estar en la misma casilla al mismo tiempo.\n",
    "Por lo tanto, el número mínimo de movimientos por alfil para alcanzar el otro extremo es de dos. Esto significa que el número mínimo de movimientos para intercambiar la posición de los ocho alfiles es de 16 (2 por cada alfil).\n",
    "Sin embargo, esta es solo una suposición, ya que se debe de considerar que para que el intercambio sea posible, se debe de mover el alfil que se encuentra ocupando la casilla en la que se ubicará el otro alfil. Por lo tanto, se buscará un algoritmo que permita ejecutar los movimientos de la forma más optimizada.\n",
    "\n",
    "Finalmente una vez realizadas estas dos partes importantes del proceso de solución, se debe realizar el diseño del algoritmo.\n",
    "El número de movimientos minimo de cada arfil es de 2, para esto entonces es necesario que no se vea interrumpido en ningun momento por otro arfil para no hacer retrosesos. Para esto entonces es posible usar una solución en la cual los primeros movimientos, en este caso blancos, sean hacia los extremos, de ahí alinear ciertos arfiles negros de manera que puedan ocupar con dos movimientos el espacio de un arfil blanco que se hallá movido a una orilla.\n",
    "Explicado de una manera mas amplia tenemos entonces la siguiente secuencia de percepción.\n",
    "Se inicia con el color blanco moviendo el extremo izquierdo, las casillas maximas hacia el brode de la derecha. Esto con la finalidad de no obstruir el paso de las demas piezas, despues movemos el arfil mas a la izquierda en una posicion en la cual con un segundo movimiento logre entrar en este espacio vacio que ha dejado el arfil blanco.\n",
    "![imagen2](imagenes\\imagen2.png)\n",
    "\n",
    "Seguimos con un segundo blanco el cual vamos a mover de nuevo a un extremos derecho, en este caso será la pieza de centro derecha. Esta quedará alineada de forma que pueda ocupar la posicion que desocupo la pieza negra.Ahora podemos hacer un movimiento de la pieza negra en la zona que fue desocupada por la priemr blanca.\n",
    "![imagen3](imagenes\\imagen3.png) \n",
    "\n",
    " Seguimos con ocupar el espacio desocupado de la negra con la segunda blanca.Ahora desocupamos la pieza negra de el centro derecha, esto para dar paso a la pieza blanca que habíamos movido en primer lugar y a su vez alinear la negra con el espacio vacio que existe por mover una segunda pieza blanca.\n",
    "![imagen4](imagenes\\imagen4.png) \n",
    "\n",
    " Movemos el arfil blanco al lugar recien desocupado por la negra y después movemos la negra al lugar del blanco libre.\n",
    "![imagen5](imagenes\\imagen5.png) \n",
    "\n",
    "Así ya tenemos la mitad del tablero cambiado, podemos repetir esta secuencia pero con las direcciones opuestas y lograriamos cambiar la siguiente parte restante de las piezas del tablero.\n",
    "![imagen6](imagenes\\imagen6.png)\n",
    "\n",
    "Una vez repetidos los movimientos pero con el lado contrario nos quedarian cambiados los arfiles con el minimo de movimientos posibles de cada uno que son 2, dando un total de 16 movimientos.\n",
    "![imagen7](imagenes\\imagen7.png)"
   ]
  }
 ],
 "metadata": {
  "kernelspec": {
   "display_name": "Python 3",
   "language": "python",
   "name": "python3"
  },
  "language_info": {
   "codemirror_mode": {
    "name": "ipython",
    "version": 3
   },
   "file_extension": ".py",
   "mimetype": "text/x-python",
   "name": "python",
   "nbconvert_exporter": "python",
   "pygments_lexer": "ipython3",
   "version": "3.11.0"
  }
 },
 "nbformat": 4,
 "nbformat_minor": 2
}
