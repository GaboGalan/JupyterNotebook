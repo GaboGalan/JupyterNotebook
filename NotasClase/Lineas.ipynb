{
 "cells": [
  {
   "cell_type": "markdown",
   "metadata": {},
   "source": [
    "##### Limpiar la imagen"
   ]
  },
  {
   "cell_type": "code",
   "execution_count": 7,
   "metadata": {},
   "outputs": [],
   "source": [
    "import cv2 as cv\n",
    "\n",
    "#Captura de cam y filtros\n",
    "cap = cv.VideoCapture(0)\n",
    "if not cap.isOpened():\n",
    "    print(\"No abre\")\n",
    "    exit()\n",
    "while True:\n",
    "    ret,img=cap.read()\n",
    "    img2 = cv.cvtColor(img, cv.COLOR_BGR2RGB)\n",
    "    img3 = cv.cvtColor(img2, cv.COLOR_RGB2HSV)\n",
    "    #umbralbajo=(100,80,80)\n",
    "    #umbralalto=(140,255,255)\n",
    "    umbralbajo=(25,0,190)\n",
    "    umbralalto=(190,30,255)\n",
    "    \n",
    "\n",
    "    mascara = cv.inRange(img3,umbralbajo,umbralalto)\n",
    "    resultado = cv.bitwise_and(img,img,mask=mascara)\n",
    "    cv.imshow('resultado',resultado)\n",
    "    cv.imshow('img',img)\n",
    "    if cv.waitKey(1)==ord('q'):\n",
    "        break\n",
    "cap.release()\n",
    "cv.destroyAllWindows()"
   ]
  },
  {
   "cell_type": "code",
   "execution_count": 1,
   "metadata": {},
   "outputs": [],
   "source": [
    "import cv2 as cv\n",
    "\n",
    "img = cv.imread('C:/Users/Gabo/Pictures/Roblox/ola3.jpg',0)\n",
    "w,h = img.shape\n",
    "for i in range(w):\n",
    "    for j in range(h):\n",
    "        img[i,j]=255-img[i,j]\n",
    "    cv.imshow('carretera', img)\n",
    "    cv.waitKey(0)\n",
    "    cv.destroyAllWindows()\n"
   ]
  },
  {
   "cell_type": "code",
   "execution_count": 8,
   "metadata": {},
   "outputs": [],
   "source": [
    "import cv2 as cv\n",
    "\n",
    "img = cv.imread('C:/Users/Gabo/Pictures/Roblox/ola3.jpg',0)\n",
    "img2 = cv.cvtColor(img, cv.COLOR_BGR2RGB)\n",
    "img3 = cv.cvtColor(img2, cv.COLOR_RGB2HSV)\n",
    "\n",
    "umbralbajo=(0,0,200)\n",
    "umbralalto=(180,30,255)\n",
    "\n",
    "mascara = cv.inRange(img3,umbralbajo,umbralalto)\n",
    "resultado = cv.bitwise_and(img,img,mask=mascara)\n",
    "cv.imshow('mascara',mascara)\n",
    "cv.imshow('img',img)\n",
    "cv.imshow('resultado',resultado)\n",
    "\n",
    "cv.waitKey(0)\n",
    "cv.destroyAllWindows()"
   ]
  }
 ],
 "metadata": {
  "kernelspec": {
   "display_name": "Python 3",
   "language": "python",
   "name": "python3"
  },
  "language_info": {
   "codemirror_mode": {
    "name": "ipython",
    "version": 3
   },
   "file_extension": ".py",
   "mimetype": "text/x-python",
   "name": "python",
   "nbconvert_exporter": "python",
   "pygments_lexer": "ipython3",
   "version": "3.11.0"
  },
  "orig_nbformat": 4
 },
 "nbformat": 4,
 "nbformat_minor": 2
}
