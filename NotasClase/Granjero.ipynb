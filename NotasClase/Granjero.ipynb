{
 "cells": [
  {
   "cell_type": "markdown",
   "metadata": {},
   "source": [
    "#### Problema de pollo, lechuga, coyote, granjero\n",
    "##### Medidas de rendimiento\n",
    "- Pasar a todos del otro lado\n",
    "- Que el pollo no se coma la lechuga\n",
    "- Que el coyote no se coma el pollo\n",
    "- Hacerlo en los menos viajes posibles\n",
    "- Maximo 2 en el barco\n",
    "- Solo el granjero lleva el barco\n",
    "\n",
    "- Que el pollo se coma la lechuga\n",
    "- Que el coyote se coma el pollo\n",
    "\n",
    "##### Secuencia de percepción\n",
    "##### Pollo es P, Lechuga L, Coyote C y Granjero G\n",
    "- G lleva P\n",
    "- G regresa\n",
    "- G lleva L \n",
    "- G regresa con P\n",
    "- G lleva L \n",
    "- G regresa con P\n",
    "- G lleva C\n",
    "- G regresa\n",
    "- G lleva P"
   ]
  }
 ],
 "metadata": {
  "language_info": {
   "name": "python"
  },
  "orig_nbformat": 4
 },
 "nbformat": 4,
 "nbformat_minor": 2
}
