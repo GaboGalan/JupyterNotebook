{
 "cells": [
  {
   "cell_type": "code",
   "execution_count": null,
   "metadata": {},
   "outputs": [],
   "source": [
    "import cv2 as cv\n",
    "import numpy as np"
   ]
  },
  {
   "cell_type": "markdown",
   "metadata": {},
   "source": [
    "##### Imagenes y videos, aplicacion de filtros "
   ]
  },
  {
   "cell_type": "code",
   "execution_count": null,
   "metadata": {},
   "outputs": [],
   "source": [
    "#Abrir una imagen\n",
    "img = cv.imread('C:/Users/Gabo/Pictures/Roblox/ola.png',1)\n",
    "cv.imshow('Ejemplo1',img)\n",
    "cv.waitKey(0)\n",
    "cv.destroyAllWindows()"
   ]
  },
  {
   "cell_type": "code",
   "execution_count": null,
   "metadata": {},
   "outputs": [],
   "source": [
    "\n",
    "img = cv.imread('C:/Users/Gabo/Pictures/Roblox/ola.png',0)\n",
    "w,h = (img.shape)\n",
    "cv.imshow('Ejemploantesdelfiltro',img)\n",
    "img2 = img.copy()\n",
    "img3 = img.copy()\n",
    "img4 = img.copy()\n",
    "img5 = img.copy()\n",
    "\n",
    "for i in range(w):\n",
    "    for j in range(h):\n",
    "        if(img[i,j]>150):\n",
    "            img[i,j]=155\n",
    "        else:\n",
    "            img[i,j]=0\n",
    "\n",
    "for i in range(w):\n",
    "    for j in range(h):\n",
    "        img2[i,j]=255-img2[i,j]\n",
    "\n",
    "for i in range(w):\n",
    "    for j in range(h):\n",
    "        if(img3[i,j]>200):\n",
    "            img3[i,j]=10\n",
    "        else:\n",
    "            img3[i,j]=100\n",
    "\n",
    "for i in range(w):\n",
    "    for j in range(h):\n",
    "        if(img4[i,j]>200):\n",
    "            img4[i,j]=10\n",
    "        else:\n",
    "            img4[i,j]=200\n",
    "\n",
    "for i in range(w):\n",
    "    for j in range(h):\n",
    "        img5[i,j]=200-img2[i,j]\n",
    "\n",
    "cv.imshow('Ejemplo1',img)\n",
    "cv.imshow('Ejemplo2',img2)\n",
    "cv.imshow('Ejemplo3',img3)\n",
    "cv.imshow('Ejemplo4',img4)\n",
    "cv.imshow('Ejemplo5',img5)\n",
    "cv.waitKey(0)\n",
    "cv.destroyAllWindows()"
   ]
  },
  {
   "cell_type": "code",
   "execution_count": null,
   "metadata": {},
   "outputs": [],
   "source": [
    "#Aplicar filtros\n",
    "img = cv.imread('C:/Users/Gabo/Pictures/Roblox/ola.png',1)\n",
    "zeros = np.zeros(img.shape[:2],dtype='uint8')\n",
    "img2 = cv.cvtColor(img, cv.COLOR_BGR2RGB)\n",
    "(b,g,r)=cv.split(img)\n",
    "\n",
    "cv.imshow('b',b)\n",
    "cv.imshow('g',g)\n",
    "cv.imshow('r',r)\n",
    "\n",
    "cv.imshow('b1',cv.merge([b,zeros,zeros]))\n",
    "cv.imshow('g1',cv.merge([zeros,g,zeros]))\n",
    "cv.imshow('r1',cv.merge([zeros,zeros,r]))\n",
    "\n",
    "cv.imshow('img',img)\n",
    "cv.imshow('img2',img2)\n",
    "cv.imshow('zeros',zeros)\n",
    "cv.imshow('grb', cv.merge([g,b,r]))\n",
    "\n",
    "cv.waitKey(0)\n",
    "cv.destroyAllWindows()"
   ]
  },
  {
   "cell_type": "code",
   "execution_count": null,
   "metadata": {},
   "outputs": [],
   "source": [
    "#Filtros con mascaras para destacar colores\n",
    "img = cv.imread('C:/Users/Gabo/Pictures/Roblox/ola2.png',1)\n",
    "img2 = cv.cvtColor(img, cv.COLOR_BGR2RGB)\n",
    "img3 = cv.cvtColor(img2, cv.COLOR_RGB2HSV)\n",
    "\n",
    "#HSV = (0-180,0-255,0-255) [Color, Saturacion al blanco?, Saturación al negro?]\n",
    "umbralbajo=(0,80,80)\n",
    "umbralalto=(10,255,255)\n",
    "umbralbajob=(170,80,80)\n",
    "umbralaltob=(180,255,255)\n",
    "\n",
    "mascara1 = cv.inRange(img3,umbralbajo,umbralalto)\n",
    "mascara2 = cv.inRange(img3,umbralbajob,umbralaltob)\n",
    "\n",
    "mascara = mascara1+mascara2\n",
    "\n",
    "resultado = cv.bitwise_and(img,img,mask=mascara)\n",
    "\n",
    "cv.imshow('resultado',resultado)\n",
    "cv.imshow('mascara',mascara)\n",
    "cv.imshow('img',img)\n",
    "cv.imshow('img2',img2)\n",
    "cv.imshow('img3',img3)\n",
    "\n",
    "cv.waitKey(0)\n",
    "cv.destroyAllWindows()"
   ]
  },
  {
   "cell_type": "code",
   "execution_count": null,
   "metadata": {},
   "outputs": [],
   "source": [
    "#Captura de cam y filtros\n",
    "cap = cv.VideoCapture(0)\n",
    "if not cap.isOpened():\n",
    "    print(\"No abre\")\n",
    "    exit()\n",
    "while True:\n",
    "    ret,img=cap.read()\n",
    "    img2 = cv.cvtColor(img, cv.COLOR_BGR2RGB)\n",
    "    img3 = cv.cvtColor(img2, cv.COLOR_RGB2HSV)\n",
    "    #umbralbajo=(100,80,80)\n",
    "    #umbralalto=(140,255,255)\n",
    "    umbralbajo=(0,150,150)\n",
    "    umbralalto=(10,255,255)\n",
    "    \n",
    "\n",
    "    mascara = cv.inRange(img3,umbralbajo,umbralalto)\n",
    "    resultado = cv.bitwise_and(img,img,mask=mascara)\n",
    "    cv.imshow('resultado',resultado)\n",
    "    cv.imshow('img',img)\n",
    "    if cv.waitKey(1)==ord('q'):\n",
    "        break\n",
    "cap.release()\n",
    "cv.destroyAllWindows()"
   ]
  },
  {
   "cell_type": "markdown",
   "metadata": {},
   "source": [
    "##### Clasificador haarcascade\n",
    "###### Se puede hacer seguimiento de objetos"
   ]
  },
  {
   "cell_type": "code",
   "execution_count": null,
   "metadata": {},
   "outputs": [],
   "source": [
    "#Codigo de reconocimiento facial.\n",
    "import cv2 as cv\n",
    "\n",
    "rostro = cv.CascadeClassifier('C:/Users/Gabo/Documents/JupyterNotebook/haarcascades/haarcascade_frontalface_alt.xml')\n",
    "#rostro = cv.CascadeClassifier('C:/Users/Gabo/Documents/JupyterNotebook/haarcascades/haarcascade_frontalcatface.xml')\n",
    "cap = cv.VideoCapture(0)\n",
    "while True:\n",
    "    ret, frame = cap.read()\n",
    "    gray = cv.cvtColor(frame, cv.COLOR_BGR2GRAY)\n",
    "    rostros = rostro.detectMultiScale(gray, 1.3, 4)\n",
    "    for(x, y, w, h) in rostros:\n",
    "        frame = cv.rectangle(frame, (x,y), (x+w, y+h), (255, 0, 0), 5)\n",
    "        #Tomas la coordenada (x,y) y multiplicas por la matriz de traslacion\n",
    "        #ojos\n",
    "        frame = cv.rectangle(frame, (x+35,y+50), (x+w-90, y+h-75), (255, 100, 100), 2)\n",
    "        frame = cv.rectangle(frame, (x+90,y+50), (x+w-35, y+h-75), (255, 100, 100), 2)\n",
    "        \n",
    "        #nariz\n",
    "        frame = cv.rectangle(frame, (x+50,y+135), (x+w-45, y+h-35), (0, 255, 0), 2)\n",
    "\n",
    "        \n",
    "    cv.imshow('rostros', frame)\n",
    "    k = cv.waitKey(1)\n",
    "    if k == 27:\n",
    "        break\n",
    "cap.release()\n",
    "cv.destroyAllWindows()"
   ]
  },
  {
   "cell_type": "markdown",
   "metadata": {},
   "source": [
    "##### Detección de rostro y facciones"
   ]
  },
  {
   "cell_type": "code",
   "execution_count": null,
   "metadata": {},
   "outputs": [],
   "source": [
    "import cv2 as cv\n",
    "\n",
    "rostro_cascade = cv.CascadeClassifier('C:/Users/Gabo/Documents/JupyterNotebook/haarcascades/haarcascade_frontalface_alt.xml')\n",
    "cap = cv.VideoCapture(0)\n",
    "\n",
    "while True:\n",
    "    ret, frame = cap.read()\n",
    "    gray = cv.cvtColor(frame, cv.COLOR_BGR2GRAY)\n",
    "    rostros = rostro_cascade.detectMultiScale(gray, scaleFactor=1.3, minNeighbors=4)\n",
    "\n",
    "    for (x, y, w, h) in rostros:\n",
    "        frame = cv.rectangle(frame, (x, y), (x + w, y + h), (255, 0, 0), 5)\n",
    "        \n",
    "        # Calcular las coordenadas de los rectángulos de los ojos en función del tamaño del rostro\n",
    "        ojo_x1 = x + w * 0.20\n",
    "        ojo_x2 = x + w * 0.40\n",
    "        ojo_y1 = y + h * 0.30\n",
    "        ojo_y2 = y + h * 0.50\n",
    "        \n",
    "        ojo2_x1 = x + w * 0.60\n",
    "        ojo2_x2 = x + w * 0.80\n",
    "        ojo2_y1 = y + h * 0.30\n",
    "        ojo2_y2 = y + h * 0.50\n",
    "        \n",
    "        frame = cv.rectangle(frame, (int(ojo_x1), int(ojo_y1)), (int(ojo_x2), int(ojo_y2)), (255, 100, 100), 2)\n",
    "        frame = cv.rectangle(frame, (int(ojo2_x1), int(ojo2_y1)), (int(ojo2_x2), int(ojo2_y2)), (255, 100, 100), 2)\n",
    "        \n",
    "        # Calcular las coordenadas del rectángulo de la boca en función del tamaño del rostro\n",
    "        boca_x1 = x + w * 0.35\n",
    "        boca_x2 = x + w * 0.65\n",
    "        boca_y1 = y + h * 0.70\n",
    "        boca_y2 = y + h * 0.90\n",
    "        \n",
    "        frame = cv.rectangle(frame, (int(boca_x1), int(boca_y1)), (int(boca_x2), int(boca_y2)), (0, 255, 0), 2)\n",
    "\n",
    "        # Calcular las coordenadas del rectángulo de la nariz en función del tamaño del rostro\n",
    "        nariz_x1 = x + w * 0.42\n",
    "        nariz_x2 = x + w * 0.58\n",
    "        nariz_y1 = y + h * 0.30\n",
    "        nariz_y2 = y + h * 0.65\n",
    "        \n",
    "        frame = cv.rectangle(frame, (int(nariz_x1), int(nariz_y1)), (int(nariz_x2), int(nariz_y2)), (0, 255, 0), 2)\n",
    "        \n",
    "    cv.imshow('rostros', frame)\n",
    "    k = cv.waitKey(1)\n",
    "    if k == 27:\n",
    "        break\n",
    "\n",
    "cap.release()\n",
    "cv.destroyAllWindows()\n"
   ]
  },
  {
   "cell_type": "code",
   "execution_count": null,
   "metadata": {},
   "outputs": [],
   "source": [
    "import cv2 as cv\n",
    "\n",
    "rostro_cascade = cv.CascadeClassifier('C:/Users/Gabo/Documents/JupyterNotebook/haarcascades/haarcascade_frontalface_alt.xml')\n",
    "cap = cv.VideoCapture(0)\n",
    "\n",
    "while True:\n",
    "    ret, frame = cap.read()\n",
    "    gray = cv.cvtColor(frame, cv.COLOR_BGR2GRAY)\n",
    "    rostros = rostro_cascade.detectMultiScale(gray, scaleFactor=1.3, minNeighbors=4)\n",
    "\n",
    "    for (x, y, w, h) in rostros:\n",
    "        frame = cv.rectangle(frame, (x, y), (x + w, y + h), (255, 0, 0), 5)\n",
    "        frame2 = frame[x:x+w, y:y+h]\n",
    "        cv.imshow('cara', frame2)\n",
    "        \n",
    "    cv.imshow('rostros', frame)\n",
    "    k = cv.waitKey(1)\n",
    "    if k == 27:\n",
    "        break\n",
    "\n",
    "cap.release()\n",
    "cv.destroyAllWindows()\n"
   ]
  },
  {
   "cell_type": "code",
   "execution_count": null,
   "metadata": {},
   "outputs": [],
   "source": [
    "import cv2 as cv\n",
    "\n",
    "rostro_cascade = cv.CascadeClassifier('C:/Users/Gabo/Documents/JupyterNotebook/haarcascades/haarcascade_frontalface_alt.xml')\n",
    "cap = cv.VideoCapture(0)\n",
    "i = 200\n",
    "while True:\n",
    "    ret, frame = cap.read()\n",
    "    frame = cv.rectangle(frame, (200,100),(450,350),(0,255,0),2)\n",
    "    cara = frame[100:350,200:450]\n",
    "\n",
    "    nueva_escala = (30, 30)\n",
    "    cara = cv.resize(cara, nueva_escala)\n",
    "\n",
    "    cv.imshow('rostros', frame)\n",
    "    cv.imshow('cara', cara)\n",
    "\n",
    "    k = cv.waitKey(1)\n",
    "    if k == ord('s'):\n",
    "        i=i+1\n",
    "        cv.imwrite('C:/Users/Gabo/Pictures/Tests/Prueba1/caras'+str(i)+'.jpg', cara)    \n",
    "    if k == 27:\n",
    "        break\n",
    "cap.release()\n",
    "cv.destroyAllWindows()\n"
   ]
  },
  {
   "cell_type": "markdown",
   "metadata": {},
   "source": [
    "##### Gato3D\n",
    "###### Medida de rendimiento\n",
    "###### Secuencia de percepcion\n",
    "###### Estrategia de solución"
   ]
  },
  {
   "cell_type": "markdown",
   "metadata": {},
   "source": [
    "- Tasa de victoria\n",
    "- Tasa de empate\n",
    "- Número de movimientos optimos"
   ]
  },
  {
   "cell_type": "markdown",
   "metadata": {},
   "source": [
    "- Quién hace la primer jugada\n",
    "- Posiciones de x y o\n",
    "- Movimientos anteriores\n",
    "- Posibilidades de bifurcaciones"
   ]
  },
  {
   "cell_type": "markdown",
   "metadata": {},
   "source": [
    "- Hacer el primer movimiento\n",
    "- Controlar el centro, ciertamente usar de primera instancia el centro en el primer movimiento nos da mas posibilidades de terminar al menos en un empate\n",
    "- Controlar una esquina,  usar los centros no da muchas posibilidades de victoria, preferible esquinas y completar con centros.\n",
    "- Procurar que el oponente use los bordes debido a que solo da menos posibilidades de victoria que usar esquinas y centro.\n",
    "- Al hacer un movimiento crear oportunidad de completar dos lineas de victoria.\n",
    "- Bloquear al oponente al ser necesario, por sobre otra cosa.\n",
    "\n",
    "En 2D\n",
    "Al priorizar el centro, y el rival una esquina... se debe priorizar la opuesta. Si el oponente selecciona un centro se escoge una esquina y se crea una bifurcación, pero si escoge una esquina se crea un empate.\n",
    "\n",
    "La unica forma viable de ganar iniciando por una esquina es que el segundo oponente tome un borde y así crear una bifurcacion con las demas esquinas.\n"
   ]
  },
  {
   "cell_type": "markdown",
   "metadata": {},
   "source": [
    "##### Medidas de rendimiento\n",
    " Son citerios que determinan el exito del comportaimento de un agente\n",
    "##### Secuencia de percepcion\n",
    "##### agente racional\n",
    "\n"
   ]
  },
  {
   "cell_type": "markdown",
   "metadata": {},
   "source": [
    "\n",
    "#### Problema de pollo, lechuga, coyote, granjero\n",
    "##### Medidas de rendimiento\n",
    "- Pasar a todos del otro lado\n",
    "- Que el pollo no se coma la lechuga\n",
    "- Que el coyote no se coma el pollo\n",
    "- Hacerlo en los menos viajes posibles\n",
    "- Maximo 2 en el barco\n",
    "- Solo el granjero lleva el barco\n",
    "\n",
    "##### Secuencia de percepción\n",
    "##### Pollo es P, Lechuga L, Coyote C y Granjero G\n",
    "- G lleva P\n",
    "- G regresa\n",
    "- G lleva L \n",
    "- G regresa con P\n",
    "- G lleva L \n",
    "- G regresa con P\n",
    "- G lleva C\n",
    "- G regresa\n",
    "- G lleva P\n",
    "\n",
    "#### Problema de los canibales y monjes\n",
    "##### Medidas de rendimiento\n",
    "- Pasar a los monjes y canivales al otro lado\n",
    "- Debe haber mas monjes que canivales para evitar que los canivales se coman a los monjes\n",
    "- Hacer la transaccion en los menos pasos posibles\n",
    "\n",
    "##### Secuencia de percepción\n",
    "##### Canivales son C y Monjes M\n",
    "- Pasar C y C\n",
    "- Regresar C\n",
    "- Pasar C y C\n",
    "- Regresar C\n",
    "- Pasar M y M\n",
    "- Regresar C\n",
    "- Pasar C y M\n",
    "- Regresar C\n",
    "- Pasar C y M\n",
    "- Regresa C\n",
    "- Pasar C y C\n",
    "- Regresa C\n",
    "- Pasar C y C\n"
   ]
  },
  {
   "cell_type": "markdown",
   "metadata": {},
   "source": []
  },
  {
   "cell_type": "markdown",
   "metadata": {},
   "source": [
    "### Prueba de codigo en markdown\n",
    "\n",
    "```python\n",
    "# Este es un ejemplo de código Python en una celda de Markdown\n",
    "x = 5\n",
    "y = 10\n",
    "suma = x + y\n",
    "print(suma)\n",
    "```"
   ]
  },
  {
   "cell_type": "code",
   "execution_count": null,
   "metadata": {},
   "outputs": [],
   "source": [
    "x = 5\n",
    "y = 10\n",
    "suma = x + y\n",
    "print(suma)"
   ]
  },
  {
   "cell_type": "markdown",
   "metadata": {},
   "source": [
    "### librerias \n",
    "##### pip3 install opencv-contrib-python\n",
    "##### Filtro puntual vs Filtro de caja??"
   ]
  },
  {
   "cell_type": "code",
   "execution_count": null,
   "metadata": {},
   "outputs": [],
   "source": [
    "x=2"
   ]
  },
  {
   "cell_type": "code",
   "execution_count": null,
   "metadata": {},
   "outputs": [],
   "source": [
    "x"
   ]
  },
  {
   "cell_type": "code",
   "execution_count": null,
   "metadata": {},
   "outputs": [],
   "source": [
    "import pandas as pd\n",
    "datos = pd.DataFrame({\"manzanas\" : [3,2], \n",
    "                      \"peras\" : [5,3]}, \n",
    "                      index=[\"Juan\",\"Pedro\"])\n",
    "datos"
   ]
  }
 ],
 "metadata": {
  "kernelspec": {
   "display_name": "Python 3",
   "language": "python",
   "name": "python3"
  },
  "language_info": {
   "codemirror_mode": {
    "name": "ipython",
    "version": 3
   },
   "file_extension": ".py",
   "mimetype": "text/x-python",
   "name": "python",
   "nbconvert_exporter": "python",
   "pygments_lexer": "ipython3",
   "version": "3.11.0"
  },
  "orig_nbformat": 4
 },
 "nbformat": 4,
 "nbformat_minor": 2
}
