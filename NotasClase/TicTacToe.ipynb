{
 "cells": [
  {
   "cell_type": "markdown",
   "metadata": {},
   "source": [
    "##### Problema de gato 3D\n",
    "##### Medida de rendimiento\n",
    "- Completar una linea de 3 figuras consecutivas\n",
    "- Completar 3 seguidas en el eje x\n",
    "- Completar 3 seguidas en el eje y\n",
    "- Completar 3 seguidas en diagonal de ambos ejes\n",
    "- Truncar todas las lineas de 3 posibles y empatar\n",
    "\n",
    "##### Secuencia de percepción\n",
    "- Tener el primer movimiento\n",
    "- Controlar el centro, ciertamente usar de primera instancia el centro en el primer movimiento nos da mas posibilidades de terminar al menos en un empate\n",
    "- Controlar una esquina,  usar los bordes no da muchas posibilidades de victoria, preferible esquinas y completar con centros.\n",
    "- Procurar que el oponente use los bordes debido a que solo da menos posibilidades de victoria que usar esquinas y centro.\n",
    "- Al hacer un movimiento crear una oportunidad de completar dos lineas de victoria.\n",
    "- Bloquear al oponente al ser necesario, por sobre otra cosa.\n",
    "\n",
    "Es mucho mas sencillo ganar un 3D debido a que hay un eje mas para realizar una bifurcación, lo que al tener el primer movimiento nos deja practicamente con la ventaja y una victoria asegurada.\n",
    "\n",
    "En cambio al 2D donde:\n",
    "\n",
    "Al priorizar el centro y primer movimiento igualmente se tiene ventaja, pero si el rival prioriza una esquina... se debe priorizar la esquina opuesta. Si el oponente selecciona un centro se escoge una esquina y se crea una bifurcación, pero si escoge una esquina se crea un empate.\n",
    "\n",
    "La unica forma viable de ganar iniciando por una esquina es que el segundo oponente tome un borde y así crear una bifurcacion con las demas esquinas.\n"
   ]
  }
 ],
 "metadata": {
  "language_info": {
   "name": "python"
  },
  "orig_nbformat": 4
 },
 "nbformat": 4,
 "nbformat_minor": 2
}
