{
 "cells": [
  {
   "cell_type": "markdown",
   "metadata": {},
   "source": [
    "#### Problema de los canibales y monjes\n",
    "##### Medidas de rendimiento\n",
    "- Pasar a los monjes y canivales al otro lado\n",
    "- Debe haber mas monjes que canivales para evitar que los canivales se coman a los monjes\n",
    "- Los canivales no se coman a los monjes\n",
    "- Hacer la transaccion en los menos pasos posibles\n",
    "- Maximo 2 en el barco\n",
    "\n",
    "- Los canivales se comen a los monjes\n",
    "\n",
    "##### Secuencia de percepción\n",
    "##### Canivales son C y Monjes M\n",
    "- Pasar C y C\n",
    "- Regresar C\n",
    "- Pasar C y C\n",
    "- Regresar C\n",
    "- Pasar M y M\n",
    "- Regresar C\n",
    "- Pasar C y M\n",
    "- Regresar C\n",
    "- Pasar C y M\n",
    "- Regresa C\n",
    "- Pasar C y C\n",
    "- Regresa C\n",
    "- Pasar C y C"
   ]
  }
 ],
 "metadata": {
  "language_info": {
   "name": "python"
  },
  "orig_nbformat": 4
 },
 "nbformat": 4,
 "nbformat_minor": 2
}
