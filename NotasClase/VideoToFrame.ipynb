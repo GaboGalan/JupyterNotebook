{
 "cells": [
  {
   "cell_type": "code",
   "execution_count": 1,
   "metadata": {},
   "outputs": [],
   "source": [
    "import numpy as np\n",
    "import cv2 as cv\n",
    "import math \n",
    "rostro = cv.CascadeClassifier('C:/Users/Gabo/Documents/JupyterNotebookClass/haarcascade_frontalface_alt.xml')"
   ]
  },
  {
   "cell_type": "code",
   "execution_count": 2,
   "metadata": {},
   "outputs": [],
   "source": [
    "cap = cv.VideoCapture(0)\n",
    "i=0\n",
    "while i<1000:\n",
    "    ret, frame = cap.read()\n",
    "    gray = cv.cvtColor(frame, cv.COLOR_BGR2GRAY)\n",
    "    rostros = rostro.detectMultiScale(gray, 2.3, 3)\n",
    "    \n",
    "    for(x, y, w, h) in rostros:\n",
    "        #frame = cv.rectangle(frame, (x,y), (x+w, y+h), (0, 255, 0), 0)\n",
    "        #frame = cv.rectangle(frame, (x+30,y+30), (x+w-30, y+h-30), (255, 0, 0), 2)\n",
    "        frame2 = frame[y:y+h, x:x+w]\n",
    "        #frame2 = frame[y:y+h, x:x+w]\n",
    "        frame2 = cv.resize(frame2,  (200,200), interpolation=cv.INTER_AREA)\n",
    "        #frame3 = frame[x+30:x+w-30, y+30:y+h-30]\n",
    "        cv.imshow('rostror', frame2)\n",
    "        #cv.imshow('rostro3', frame3)\n",
    "        cv.imwrite('C:/Users/Gabo/Pictures/Ejemplo'+str(i)+'.jpg', frame2) \n",
    "        i=i+1\n",
    "\n",
    "    cv.imshow('rostros', frame)\n",
    "    \n",
    "    k = cv.waitKey(1)\n",
    "    if k == 27:\n",
    "        break\n",
    "    #elif\n",
    "    \n",
    "cap.release()\n",
    "cv.destroyAllWindows()"
   ]
  }
 ],
 "metadata": {
  "kernelspec": {
   "display_name": "Python 3",
   "language": "python",
   "name": "python3"
  },
  "language_info": {
   "codemirror_mode": {
    "name": "ipython",
    "version": 3
   },
   "file_extension": ".py",
   "mimetype": "text/x-python",
   "name": "python",
   "nbconvert_exporter": "python",
   "pygments_lexer": "ipython3",
   "version": "3.11.0"
  }
 },
 "nbformat": 4,
 "nbformat_minor": 2
}
